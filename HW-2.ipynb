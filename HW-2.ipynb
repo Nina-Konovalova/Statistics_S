{
 "cells": [
  {
   "cell_type": "code",
   "execution_count": 20,
   "metadata": {},
   "outputs": [],
   "source": [
    "import numpy as np\n",
    "import scipy\n",
    "import scipy.stats\n",
    "import pandas as pd\n",
    "import matplotlib.pyplot as plt"
   ]
  },
  {
   "cell_type": "markdown",
   "metadata": {},
   "source": [
    "# Homework 2\n",
    "## Hypothesis testing"
   ]
  },
  {
   "cell_type": "markdown",
   "metadata": {},
   "source": [
    "Each task is worth 5 points, 20 points in total. Additionally, some tasks allow you to get a bonus point, that **can not** increase your total score for the homework beyond the maximum, but can compensate for some occasionally lost points."
   ]
  },
  {
   "cell_type": "markdown",
   "metadata": {},
   "source": [
    "### Task 1: multiple comparisons"
   ]
  },
  {
   "cell_type": "markdown",
   "metadata": {},
   "source": [
    "A randomized, double-blind experiment was conducted to assess the\n",
    "effectiveness of several drugs for reducing postoperative nausea. The\n",
    "data are as follows:"
   ]
  },
  {
   "cell_type": "code",
   "execution_count": 21,
   "metadata": {},
   "outputs": [],
   "source": [
    "df1 = pd.DataFrame({'Drug': ['Placebo', 'Chlorpromazine', 'Dimenhydrinate', 'Pentobarbital (100 mg)', 'Pentobarbital (150 mg)'],\n",
    "                    'Number of Patients': [80, 75, 85, 67, 85],\n",
    "                    'Incidence of Nausea': [45, 26, 52, 35, 37]})\n",
    "df1['percentage'] = df1['Incidence of Nausea']/df1['Number of Patients']"
   ]
  },
  {
   "cell_type": "code",
   "execution_count": 22,
   "metadata": {},
   "outputs": [
    {
     "data": {
      "text/html": [
       "<div>\n",
       "<style scoped>\n",
       "    .dataframe tbody tr th:only-of-type {\n",
       "        vertical-align: middle;\n",
       "    }\n",
       "\n",
       "    .dataframe tbody tr th {\n",
       "        vertical-align: top;\n",
       "    }\n",
       "\n",
       "    .dataframe thead th {\n",
       "        text-align: right;\n",
       "    }\n",
       "</style>\n",
       "<table border=\"1\" class=\"dataframe\">\n",
       "  <thead>\n",
       "    <tr style=\"text-align: right;\">\n",
       "      <th></th>\n",
       "      <th>Drug</th>\n",
       "      <th>Number of Patients</th>\n",
       "      <th>Incidence of Nausea</th>\n",
       "      <th>percentage</th>\n",
       "    </tr>\n",
       "  </thead>\n",
       "  <tbody>\n",
       "    <tr>\n",
       "      <th>0</th>\n",
       "      <td>Placebo</td>\n",
       "      <td>80</td>\n",
       "      <td>45</td>\n",
       "      <td>0.562500</td>\n",
       "    </tr>\n",
       "    <tr>\n",
       "      <th>1</th>\n",
       "      <td>Chlorpromazine</td>\n",
       "      <td>75</td>\n",
       "      <td>26</td>\n",
       "      <td>0.346667</td>\n",
       "    </tr>\n",
       "    <tr>\n",
       "      <th>2</th>\n",
       "      <td>Dimenhydrinate</td>\n",
       "      <td>85</td>\n",
       "      <td>52</td>\n",
       "      <td>0.611765</td>\n",
       "    </tr>\n",
       "    <tr>\n",
       "      <th>3</th>\n",
       "      <td>Pentobarbital (100 mg)</td>\n",
       "      <td>67</td>\n",
       "      <td>35</td>\n",
       "      <td>0.522388</td>\n",
       "    </tr>\n",
       "    <tr>\n",
       "      <th>4</th>\n",
       "      <td>Pentobarbital (150 mg)</td>\n",
       "      <td>85</td>\n",
       "      <td>37</td>\n",
       "      <td>0.435294</td>\n",
       "    </tr>\n",
       "  </tbody>\n",
       "</table>\n",
       "</div>"
      ],
      "text/plain": [
       "                     Drug  Number of Patients  Incidence of Nausea  percentage\n",
       "0                 Placebo                  80                   45    0.562500\n",
       "1          Chlorpromazine                  75                   26    0.346667\n",
       "2          Dimenhydrinate                  85                   52    0.611765\n",
       "3  Pentobarbital (100 mg)                  67                   35    0.522388\n",
       "4  Pentobarbital (150 mg)                  85                   37    0.435294"
      ]
     },
     "execution_count": 22,
     "metadata": {},
     "output_type": "execute_result"
    }
   ],
   "source": [
    "df1"
   ]
  },
  {
   "cell_type": "code",
   "execution_count": 23,
   "metadata": {},
   "outputs": [],
   "source": [
    "import numpy as np\n",
    "from scipy.stats import norm\n"
   ]
  },
  {
   "cell_type": "code",
   "execution_count": 24,
   "metadata": {},
   "outputs": [],
   "source": [
    "# 𝐻0 : \"𝑝𝑑𝑟𝑢𝑔=𝑝𝑝𝑙𝑎𝑐𝑒𝑏𝑜\" that means delta = p1-p2 = 0\n",
    "def delta (p1,p2):\n",
    "    delta = p1-p2\n",
    "    #print('delta = ', delta)\n",
    "    return delta\n"
   ]
  },
  {
   "cell_type": "code",
   "execution_count": 25,
   "metadata": {},
   "outputs": [],
   "source": [
    "def se(p1,p2,n1,n2):\n",
    "    se = math.sqrt(((p1*(1-p1)/n1 + p2*(1-p2)/n2)))\n",
    "    #print('se= ', se)\n",
    "    return se"
   ]
  },
  {
   "cell_type": "code",
   "execution_count": 38,
   "metadata": {},
   "outputs": [],
   "source": [
    "def wald_test(p1,p2,n1,n2):\n",
    "    W = delta(p1,p2)/se(p1,p2,n1,n2)\n",
    "    print('W = ', round(abs(W),3))\n",
    "    return (abs(W) > norm.cdf(norm.ppf(0.95)))"
   ]
  },
  {
   "cell_type": "code",
   "execution_count": 33,
   "metadata": {},
   "outputs": [],
   "source": [
    "def confident_interval(p1,p2,n1,n2):\n",
    "    z = norm.ppf((1-0.05/2))\n",
    "    bound_left = delta (p1,p2) - z*se(p1,p2,n1,n2)\n",
    "    bound_right = delta (p1,p2) + z*se(p1,p2,n1,n2)\n",
    "    print('delta = ', delta (p1,p2))\n",
    "    print('se = ', se(p1,p2,n1,n2))\n",
    "    print('Conf. interval:', '[', round(bound_left,3), round(bound_right,3),']')\n",
    "    return bound_left, bound_right"
   ]
  },
  {
   "cell_type": "code",
   "execution_count": 34,
   "metadata": {},
   "outputs": [],
   "source": [
    "def odds_ratios(p1,p2):\n",
    "    odds_ratio = p1/(1-p1)/(p2/(1-p2))\n",
    "    print('odds_ratio', round(odds_ratio,3))\n",
    "    return odds_ratio"
   ]
  },
  {
   "cell_type": "code",
   "execution_count": 39,
   "metadata": {},
   "outputs": [
    {
     "name": "stdout",
     "output_type": "stream",
     "text": [
      "Chlorpromazine\n",
      "delta =  0.21583333333333332\n",
      "se =  0.07807703712905512\n",
      "Conf. interval: [ 0.063 0.369 ]\n",
      "True\n",
      "W =  2.764\n",
      "Wald criteria  True\n",
      "odds_ratio 2.423\n",
      "---------------------\n",
      "Dimenhydrinate\n",
      "delta =  -0.04926470588235299\n",
      "se =  0.07661847879507237\n",
      "Conf. interval: [ -0.199 0.101 ]\n",
      "False\n",
      "W =  0.643\n",
      "Wald criteria  False\n",
      "odds_ratio 0.816\n",
      "---------------------\n",
      "Pentobarbital (100 mg)\n",
      "delta =  0.04011194029850751\n",
      "se =  0.08246231979025985\n",
      "Conf. interval: [ -0.122 0.202 ]\n",
      "False\n",
      "W =  0.486\n",
      "Wald criteria  False\n",
      "odds_ratio 1.176\n",
      "---------------------\n",
      "Pentobarbital (150 mg)\n",
      "delta =  0.12720588235294117\n",
      "se =  0.0772534224000257\n",
      "Conf. interval: [ -0.024 0.279 ]\n",
      "False\n",
      "W =  1.647\n",
      "Wald criteria  True\n",
      "odds_ratio 1.668\n",
      "---------------------\n"
     ]
    }
   ],
   "source": [
    "import math\n",
    "p1 = float(df1[df1['Drug'] == 'Placebo'].percentage)\n",
    "n1 = float(df1[df1['Drug'] == 'Placebo']['Number of Patients'])\n",
    "for drug in df1.Drug[1:]: \n",
    "    p2 = float(df1[df1['Drug'] == drug].percentage)\n",
    "    n2 = float(df1[df1['Drug'] == drug]['Number of Patients'])\n",
    "    print(drug)\n",
    "    left_b, right_b = confident_interval(p1,p2,n1,n2)\n",
    "    print(left_b > 0 or right_b < 0)\n",
    "    print('Wald criteria ', wald_test(p1,p2,n1,n2) )\n",
    "    o_r = odds_ratios(p1,p2)\n",
    "    print('---------------------')"
   ]
  },
  {
   "cell_type": "code",
   "execution_count": 41,
   "metadata": {},
   "outputs": [
    {
     "name": "stdout",
     "output_type": "stream",
     "text": [
      "Chlorpromazine : p_value =  0.0057\n",
      "Dimenhydrinate : p_value =  0.5202\n",
      "Pentobarbital (100 mg) : p_value =  0.6267\n",
      "Pentobarbital (150 mg) : p_value =  0.0996\n"
     ]
    }
   ],
   "source": [
    "p_val = []\n",
    "for drug in df1.Drug[1:]: \n",
    "    p2 = float(df1[df1['Drug'] == drug].percentage)\n",
    "    n2 = float(df1[df1['Drug'] == drug]['Number of Patients'])\n",
    "    W = delta(p1,p2)/se(p1,p2,n1,n2)\n",
    "    pvalue = 2 * norm.cdf(-np.abs(W))\n",
    "    print(drug, ': p_value = ', round(pvalue,4))\n",
    "    p_val.append(pvalue)"
   ]
  },
  {
   "cell_type": "code",
   "execution_count": 42,
   "metadata": {},
   "outputs": [
    {
     "name": "stdout",
     "output_type": "stream",
     "text": [
      "Method bonferroni: reject=\n",
      "[ True False False False]\n",
      " with p-values = \n",
      "[0.02281357 0.39855693 1.         1.        ]\n",
      "Method fdr_bh    : reject=\n",
      "[ True False False False]\n",
      " with p-values = \n",
      "[0.02281357 0.19927847 0.62666409 0.62666409]\n"
     ]
    }
   ],
   "source": [
    "from statsmodels.stats.multitest import multipletests\n",
    "for method in [\"bonferroni\", \"fdr_bh\"]:\n",
    "    \n",
    "    reject, pvals, _, _ = multipletests(p_val, method=method, returnsorted=True)\n",
    "    print(f\"Method {method:10s}: reject=\\n{reject}\\n with p-values = \\n{pvals}\")"
   ]
  },
  {
   "cell_type": "code",
   "execution_count": 43,
   "metadata": {},
   "outputs": [
    {
     "data": {
      "text/plain": [
       "array([0.00570339, 0.09963923, 0.52023237, 0.62666409])"
      ]
     },
     "execution_count": 43,
     "metadata": {},
     "output_type": "execute_result"
    }
   ],
   "source": [
    "p_val = np.sort(np.array(p_val))\n",
    "p_val"
   ]
  },
  {
   "cell_type": "code",
   "execution_count": 47,
   "metadata": {},
   "outputs": [
    {
     "data": {
      "text/plain": [
       "<matplotlib.legend.Legend at 0x131da0da070>"
      ]
     },
     "execution_count": 47,
     "metadata": {},
     "output_type": "execute_result"
    },
    {
     "data": {
      "image/png": "[encoded data removed]",
      "text/plain": [
       "<Figure size 720x720 with 1 Axes>"
      ]
     },
     "metadata": {
      "needs_background": "light"
     },
     "output_type": "display_data"
    }
   ],
   "source": [
    "import matplotlib.pyplot as plt\n",
    "alpha = 0.05\n",
    "plt.figure(figsize=(10, 10))\n",
    "plt.ylim(0,0.65)\n",
    "plt.hlines(alpha, 0, 5, color = 'red', label = 'alpha')\n",
    "plt.hlines(alpha/4, 0, 5, color = 'blue', label = 'alpha/m')\n",
    "for i in range (p_val.shape[0]):\n",
    "    plt.vlines(i+1, 0, p_val[i], color = 'blue', linestyle = '--')\n",
    "plt.plot(np.arange(0,5), np.arange(0,5)*alpha/4, color = 'green')\n",
    "plt.scatter(np.arange(1,5),p_val, c = 'black')\n",
    "plt.legend(fontsize=16)"
   ]
  },
  {
   "cell_type": "markdown",
   "metadata": {},
   "source": [
    "1. Test each drug versus the placebo at the 5% level. Also, report\n",
    "the estimated odds–ratios. Summarize your findings. (2 points)\n",
    "2. Use the Bonferroni and the FDR method to adjust for multiple\n",
    "testing. (Beecher (1959)) (3 points)\n",
    "3. Reproduce plot similar to Figure 10.6 from the book, displaying observed $p$-values and different thresholds used (1 bonus point)\n",
    "\n",
    "*Hint*. Use simple $H_0$: \"$p_{drug} = p_{placebo}$\"."
   ]
  },
  {
   "cell_type": "markdown",
   "metadata": {},
   "source": [
    "### Task 2: permutation test"
   ]
  },
  {
   "cell_type": "markdown",
   "metadata": {},
   "source": [
    "For this task we will use the famous Iris dataset, originaly studied by R.A. Fisher himself."
   ]
  },
  {
   "cell_type": "code",
   "execution_count": 2,
   "metadata": {
    "scrolled": true
   },
   "outputs": [
    {
     "data": {
      "text/html": [
       "<div>\n",
       "<style scoped>\n",
       "    .dataframe tbody tr th:only-of-type {\n",
       "        vertical-align: middle;\n",
       "    }\n",
       "\n",
       "    .dataframe tbody tr th {\n",
       "        vertical-align: top;\n",
       "    }\n",
       "\n",
       "    .dataframe thead th {\n",
       "        text-align: right;\n",
       "    }\n",
       "</style>\n",
       "<table border=\"1\" class=\"dataframe\">\n",
       "  <thead>\n",
       "    <tr style=\"text-align: right;\">\n",
       "      <th></th>\n",
       "      <th>sepal_length</th>\n",
       "      <th>sepal_width</th>\n",
       "      <th>petal_length</th>\n",
       "      <th>petal_width</th>\n",
       "      <th>species</th>\n",
       "    </tr>\n",
       "  </thead>\n",
       "  <tbody>\n",
       "    <tr>\n",
       "      <th>0</th>\n",
       "      <td>5.1</td>\n",
       "      <td>3.5</td>\n",
       "      <td>1.4</td>\n",
       "      <td>0.2</td>\n",
       "      <td>setosa</td>\n",
       "    </tr>\n",
       "    <tr>\n",
       "      <th>1</th>\n",
       "      <td>4.9</td>\n",
       "      <td>3.0</td>\n",
       "      <td>1.4</td>\n",
       "      <td>0.2</td>\n",
       "      <td>setosa</td>\n",
       "    </tr>\n",
       "    <tr>\n",
       "      <th>2</th>\n",
       "      <td>4.7</td>\n",
       "      <td>3.2</td>\n",
       "      <td>1.3</td>\n",
       "      <td>0.2</td>\n",
       "      <td>setosa</td>\n",
       "    </tr>\n",
       "    <tr>\n",
       "      <th>3</th>\n",
       "      <td>4.6</td>\n",
       "      <td>3.1</td>\n",
       "      <td>1.5</td>\n",
       "      <td>0.2</td>\n",
       "      <td>setosa</td>\n",
       "    </tr>\n",
       "    <tr>\n",
       "      <th>4</th>\n",
       "      <td>5.0</td>\n",
       "      <td>3.6</td>\n",
       "      <td>1.4</td>\n",
       "      <td>0.2</td>\n",
       "      <td>setosa</td>\n",
       "    </tr>\n",
       "  </tbody>\n",
       "</table>\n",
       "</div>"
      ],
      "text/plain": [
       "   sepal_length  sepal_width  petal_length  petal_width species\n",
       "0           5.1          3.5           1.4          0.2  setosa\n",
       "1           4.9          3.0           1.4          0.2  setosa\n",
       "2           4.7          3.2           1.3          0.2  setosa\n",
       "3           4.6          3.1           1.5          0.2  setosa\n",
       "4           5.0          3.6           1.4          0.2  setosa"
      ]
     },
     "execution_count": 2,
     "metadata": {},
     "output_type": "execute_result"
    }
   ],
   "source": [
    "iris = pd.read_csv('https://raw.githubusercontent.com/mwaskom/seaborn-data/master/iris.csv')\n",
    "iris.head()"
   ]
  },
  {
   "cell_type": "markdown",
   "metadata": {},
   "source": [
    "We will select two species: *setosa* and *virginica* and study the sepal length."
   ]
  },
  {
   "cell_type": "code",
   "execution_count": 17,
   "metadata": {},
   "outputs": [],
   "source": [
    "X = iris[iris.species == 'setosa']['sepal_width'].values\n",
    "Y = iris[iris.species == 'virginica']['sepal_width'].values"
   ]
  },
  {
   "cell_type": "markdown",
   "metadata": {},
   "source": [
    "Test the hypothesis $H_0$: \"quantiles of level 0.2 of both flowers are equal\" vs $H_1$: \"quantile of level 0.2 (20 percentile, lower 20%) of the sepal width of *setosa* flowers is  larger than that of *virginica* flowers\". Use permutation test, approximate the full permutation distribution with 10,000 samples. (5 points)\n"
   ]
  },
  {
   "cell_type": "code",
   "execution_count": 231,
   "metadata": {},
   "outputs": [],
   "source": [
    "def approximate_permutation_criteria(func, sample1, sample2, nruns):\n",
    "    l1 = len(sample1)\n",
    "    l2 = len(sample2)\n",
    "    \n",
    "    t_obs = func(sample1, sample2)\n",
    "    sample_joint = np.r_[sample1, sample2]\n",
    "    counter = 0.\n",
    "    for r in range(nruns):\n",
    "        sample_joint = np.random.permutation(sample_joint)\n",
    "        t = func(sample_joint[:l1], sample_joint[l1:])\n",
    "        counter += t > t_obs\n",
    "        #counter += t > 0\n",
    "#         print(f\"{t:.3f}/{t_obs:.3f}\")\n",
    "    \n",
    "    return counter / nruns"
   ]
  },
  {
   "cell_type": "code",
   "execution_count": 19,
   "metadata": {},
   "outputs": [
    {
     "data": {
      "text/plain": [
       "'Got p-value = 0.000'"
      ]
     },
     "execution_count": 19,
     "metadata": {},
     "output_type": "execute_result"
    }
   ],
   "source": [
    "T = lambda sample1, sample2: np.quantile(sample1,0.2) - np.quantile(sample2,0.2)\n",
    "pvalue = approximate_permutation_criteria(T, X, Y, nruns=10000)\n",
    "f\"Got p-value = {pvalue:.3f}\""
   ]
  },
  {
   "cell_type": "markdown",
   "metadata": {},
   "source": [
    "### Task 3: computational approach to hypothesis testing"
   ]
  },
  {
   "cell_type": "markdown",
   "metadata": {},
   "source": [
    "Recommended reading: http://allendowney.blogspot.com/2016/06/there-is-still-only-one-test.html"
   ]
  },
  {
   "cell_type": "markdown",
   "metadata": {},
   "source": [
    "Consider the following dataset (service hours between failures of the air-conditioning equipment in a Boeing 720 jet aircraft , Proschan, 1963):"
   ]
  },
  {
   "cell_type": "code",
   "execution_count": 48,
   "metadata": {},
   "outputs": [],
   "source": [
    "Y = np.array([3, 5, 7, 18, 43, 85, 91, 98, 100, 130, 230, 487])"
   ]
  },
  {
   "cell_type": "code",
   "execution_count": 49,
   "metadata": {},
   "outputs": [
    {
     "data": {
      "text/plain": [
       "(-0.55, 11.55, -24.35, 511.35)"
      ]
     },
     "execution_count": 49,
     "metadata": {},
     "output_type": "execute_result"
    },
    {
     "data": {
      "image/png": "[encoded data removed]",
      "text/plain": [
       "<Figure size 432x288 with 1 Axes>"
      ]
     },
     "metadata": {
      "needs_background": "light"
     },
     "output_type": "display_data"
    }
   ],
   "source": [
    "plt.figure(figsize=(6, 4))\n",
    "plt.scatter(np.arange(len(Y)),Y)\n",
    "for i in range (Y.shape[0]):\n",
    "    plt.vlines(i, 0, Y[i], color = 'blue', linestyle = '--')\n",
    "plt.axis(True)"
   ]
  },
  {
   "cell_type": "code",
   "execution_count": 50,
   "metadata": {},
   "outputs": [
    {
     "data": {
      "text/plain": [
       "(array([5., 3., 2., 0., 1., 0., 0., 0., 0., 1.]),\n",
       " array([  3. ,  51.4,  99.8, 148.2, 196.6, 245. , 293.4, 341.8, 390.2,\n",
       "        438.6, 487. ]),\n",
       " <a list of 10 Patch objects>)"
      ]
     },
     "execution_count": 50,
     "metadata": {},
     "output_type": "execute_result"
    },
    {
     "data": {
      "image/png": "[encoded data removed]",
      "text/plain": [
       "<Figure size 432x288 with 1 Axes>"
      ]
     },
     "metadata": {
      "needs_background": "light"
     },
     "output_type": "display_data"
    }
   ],
   "source": [
    "plt.hist(Y)\n"
   ]
  },
  {
   "cell_type": "markdown",
   "metadata": {},
   "source": [
    "This sample was sorted for easier presentation."
   ]
  },
  {
   "cell_type": "code",
   "execution_count": 51,
   "metadata": {},
   "outputs": [
    {
     "data": {
      "text/plain": [
       "88.0"
      ]
     },
     "execution_count": 51,
     "metadata": {},
     "output_type": "execute_result"
    }
   ],
   "source": [
    "# Compute an estimate of the median time between failures \n",
    "median_time = np.median(Y)\n",
    "median_time"
   ]
  },
  {
   "cell_type": "code",
   "execution_count": 52,
   "metadata": {},
   "outputs": [
    {
     "data": {
      "text/plain": [
       "168"
      ]
     },
     "execution_count": 52,
     "metadata": {},
     "output_type": "execute_result"
    }
   ],
   "source": [
    "# Consider the null hypothesis  𝐻0  to be: \"median time between failures is one week\"\n",
    "median_H0 = 7*24\n",
    "median_H0"
   ]
  },
  {
   "cell_type": "markdown",
   "metadata": {},
   "source": [
    "As a family distribution we will consider exponential distribution with pdf:\n",
    "\n",
    "$$f(x, \\lambda) =  \\lambda e^{-\\lambda x}$$\n",
    "\n",
    "With parametr $\\lambda > 0$"
   ]
  },
  {
   "cell_type": "code",
   "execution_count": 53,
   "metadata": {},
   "outputs": [
    {
     "data": {
      "text/plain": [
       "Text(0.5, 1.0, 'Exponential distribution')"
      ]
     },
     "execution_count": 53,
     "metadata": {},
     "output_type": "execute_result"
    },
    {
     "data": {
      "image/png": "[encoded data removed]",
      "text/plain": [
       "<Figure size 576x432 with 1 Axes>"
      ]
     },
     "metadata": {
      "needs_background": "light"
     },
     "output_type": "display_data"
    }
   ],
   "source": [
    "from scipy.stats import expon\n",
    "import math\n",
    "plt.figure(figsize=(8, 6))\n",
    "lam = [0.5,1,1.5]\n",
    "for l in lam:\n",
    "    dist_pred = expon(loc=0, scale=l)\n",
    "    points = np.arange(0,5,0.1)\n",
    "    plt.plot(points, dist_pred.pdf(points), \"o\", label=\"lambda \" + str(l))\n",
    "l = math.log(2)/(7*24)\n",
    "plt.plot(points, dist_pred.pdf(points), \"o\", label=\"lambda \" + str(l))\n",
    "plt.legend(fontsize=16)\n",
    "plt.title('Exponential distribution',fontsize=16)"
   ]
  },
  {
   "cell_type": "code",
   "execution_count": 67,
   "metadata": {},
   "outputs": [],
   "source": [
    "#test statistic test statistic to measure the deviation from  𝐻0\n",
    "\n",
    "T = lambda sample1, sample2: np.abs(np.median(sample1) - np.median(sample2))"
   ]
  },
  {
   "cell_type": "code",
   "execution_count": 72,
   "metadata": {},
   "outputs": [],
   "source": [
    "data_for_hist = []\n",
    "def interesting_criteria(func, sample1, nruns):\n",
    "    l = np.log(2)/(7*24)\n",
    "    ex = expon(scale=1/l)\n",
    "#r = ex.rvs(size=1000)\n",
    "    t_obs = np.abs(88 - 7*24)\n",
    "    counter = 0.\n",
    "    for r in range(nruns):\n",
    "        modeled_data = expon(0,1/l).rvs(size=len(sample1))\n",
    "        #data_for_hist.append(modeled_data)\n",
    "        t = func(7*24, modeled_data)\n",
    "        data_for_hist.append(t)\n",
    "        #print(t)\n",
    "        counter += t > t_obs\n",
    "#         print(f\"{t:.3f}/{t_obs:.3f}\")\n",
    "    \n",
    "    return counter / nruns"
   ]
  },
  {
   "cell_type": "code",
   "execution_count": 73,
   "metadata": {},
   "outputs": [
    {
     "data": {
      "text/plain": [
       "'Got p-value = 2.123000e-01'"
      ]
     },
     "execution_count": 73,
     "metadata": {},
     "output_type": "execute_result"
    }
   ],
   "source": [
    "a = interesting_criteria(T, Y, 10000)\n",
    "f\"Got p-value = {a:e}\""
   ]
  },
  {
   "cell_type": "code",
   "execution_count": 138,
   "metadata": {},
   "outputs": [
    {
     "data": {
      "image/png": "[encoded data removed]",
      "text/plain": [
       "<Figure size 576x432 with 1 Axes>"
      ]
     },
     "metadata": {
      "needs_background": "light"
     },
     "output_type": "display_data"
    }
   ],
   "source": [
    "\n",
    "plt.figure(figsize=(8, 6))\n",
    "plt.hist(data_for_hist, density=True, bins=100, color='black')\n",
    "plt.vlines(168-88,0,0.013, color = 'red', label = 'delta_0')\n",
    "plt.vlines(np.quantile(data_for_hist, 1-0.05),0,0.013, color = 'green', label = 'sagnificance level')\n",
    "plt.title('Simulated values of test statistic', fontsize=17)\n",
    "plt.legend(fontsize=10)\n",
    "plt.show()"
   ]
  },
  {
   "cell_type": "markdown",
   "metadata": {},
   "source": [
    "1. Compute an estimate of the median time between failures (1 point)\n",
    "2. Consider the null hypothesis $H_0$ to be: \"median time between failures is one week\" (1 point)\n",
    "3. What family of distributions will you choose for this kind of data under $H_0$? (1 point)\n",
    "4. Choose a test statistic to measure the deviation from $H_0$ (1 point)\n",
    "5. Check whether you can reject $H_0$ at significance level 5% and calculate the corresponding approximate $p$-value. Use 10,000 simulations for your experiment (1 point)\n",
    "6. Plot histogram of the simulated values of the test statistic and mark the observed value and threshold that you obtained (1 bouns point)"
   ]
  },
  {
   "cell_type": "markdown",
   "metadata": {},
   "source": [
    "### Task 4: power analysis"
   ]
  },
  {
   "cell_type": "markdown",
   "metadata": {},
   "source": [
    "In 1861, 10 essays appeared in the New Orleans Daily Crescent. They\n",
    "were signed “Quintus Curtius Snodgrass” and some people suspected\n",
    "they were actually written by Mark Twain. To investigate this, we will\n",
    "consider the proportion of three letter words found in an author’s work.\n",
    "From eight Twain essays we have:"
   ]
  },
  {
   "cell_type": "code",
   "execution_count": 89,
   "metadata": {},
   "outputs": [],
   "source": [
    "X = np.array([.225, .262, .217, .240, .230, .229, .235, .217])"
   ]
  },
  {
   "cell_type": "markdown",
   "metadata": {},
   "source": [
    "From 10 Snodgrass essays we have:"
   ]
  },
  {
   "cell_type": "code",
   "execution_count": 90,
   "metadata": {},
   "outputs": [],
   "source": [
    "Y = np.array([.209, .205, .196, .210, .202, .207, .224, .223, .220, .201])"
   ]
  },
  {
   "cell_type": "code",
   "execution_count": 91,
   "metadata": {},
   "outputs": [],
   "source": [
    "x_mean = X.mean()\n",
    "y_mean = Y.mean()"
   ]
  },
  {
   "cell_type": "code",
   "execution_count": 92,
   "metadata": {},
   "outputs": [],
   "source": [
    "def wald_test_for_means(sample1, sample2, estimate=0):\n",
    "    sample1_mean = np.mean(sample1)\n",
    "    sample2_mean = np.mean(sample2)\n",
    "    mean = sample1_mean - sample2_mean - estimate\n",
    "    se = np.sqrt(np.var(sample1) / len(sample1) + np.var(sample2) / len(sample2))\n",
    "    z = norm.ppf(1-0.05/2)\n",
    "    left_bound = mean - se*z\n",
    "    right_bound = mean + se*z\n",
    "    statistic = np.abs(mean / se)\n",
    "    pvalue = 2 * norm.cdf(-np.abs(statistic))\n",
    "    return statistic, pvalue, left_bound, right_bound\n"
   ]
  },
  {
   "cell_type": "code",
   "execution_count": 93,
   "metadata": {},
   "outputs": [],
   "source": [
    "statistic, pvalue, left_bound, right_bound = wald_test_for_means(X, Y, estimate=0)"
   ]
  },
  {
   "cell_type": "code",
   "execution_count": 99,
   "metadata": {},
   "outputs": [
    {
     "data": {
      "text/plain": [
       "'p-value = 7.992665e-05'"
      ]
     },
     "execution_count": 99,
     "metadata": {},
     "output_type": "execute_result"
    }
   ],
   "source": [
    "f\"p-value = {pvalue:e}\""
   ]
  },
  {
   "cell_type": "code",
   "execution_count": 101,
   "metadata": {},
   "outputs": [
    {
     "name": "stdout",
     "output_type": "stream",
     "text": [
      "Pentobarbital (150 mg) : p_value =  7.9926649561458e-05\n",
      "Conf. interval: [ 0.011 0.033 ]\n"
     ]
    }
   ],
   "source": [
    "print('Conf. interval:', '[', round(left_bound,3), round(right_bound,3),']')"
   ]
  },
  {
   "cell_type": "code",
   "execution_count": 113,
   "metadata": {},
   "outputs": [],
   "source": [
    "def approximate_permutation_criteria(func, sample1, sample2, nruns):\n",
    "    l1 = len(sample1)\n",
    "    l2 = len(sample2)\n",
    "    \n",
    "    t_obs = func(sample1, sample2)\n",
    "    sample_joint = np.r_[sample1, sample2]\n",
    "    counter = 0.\n",
    "    for r in range(nruns):\n",
    "        sample_joint = np.random.permutation(sample_joint)\n",
    "        t = func(sample_joint[:l1], sample_joint[l1:])\n",
    "        counter += t > t_obs\n",
    "        #counter += t > 0\n",
    "#         print(f\"{t:.3f}/{t_obs:.3f}\")\n",
    "    \n",
    "    return counter / nruns"
   ]
  },
  {
   "cell_type": "code",
   "execution_count": 132,
   "metadata": {},
   "outputs": [
    {
     "data": {
      "text/plain": [
       "'Got p-value = 0.001'"
      ]
     },
     "execution_count": 132,
     "metadata": {},
     "output_type": "execute_result"
    }
   ],
   "source": [
    "# Now use a permutation test to avoid the use of large sample methods. \n",
    "#T = lambda sample1, sample2: abs(np.mean(sample1) - np.mean(sample2))\n",
    "pvalue = approximate_permutation_criteria(T, X, Y, nruns=10000)\n",
    "f\"Got p-value = {pvalue:.3f}\""
   ]
  },
  {
   "cell_type": "markdown",
   "metadata": {},
   "source": [
    "Reject H_0"
   ]
  },
  {
   "cell_type": "code",
   "execution_count": 104,
   "metadata": {},
   "outputs": [
    {
     "name": "stdout",
     "output_type": "stream",
     "text": [
      "mean for X 0.231875 var for X 0.00018560937500000004\n",
      "mean for Y 0.2097 var for Y 8.400999999999999e-05\n"
     ]
    }
   ],
   "source": [
    "\n",
    "print('mean for X', np.mean(X), 'var for X', np.var(X))\n",
    "print('mean for Y', np.mean(Y), 'var for Y', np.var(Y))"
   ]
  },
  {
   "cell_type": "markdown",
   "metadata": {},
   "source": [
    "1. Perform a Wald test for equality of the means. Use the nonparametric plug-in estimator. Report the p-value and a 95% confidence\n",
    "interval for the difference of means. What do you conclude? (1.5 points)\n",
    "2. Now use a permutation test to avoid the use of large sample methods.\n",
    "What is your conclusion? (Brinegar (1963)) (1.5 points)\n",
    "3. Assume that samples do indeed come from different populations. Additionally, observed sample means and variaces for the two samples are equal to the true values for the respective population. Estimate the power of the two tests above under two model distributions for the data: Normal and [Beta](https://en.wikipedia.org/wiki/Beta_distribution). Use the same family for both samples (2 points)"
   ]
  },
  {
   "cell_type": "code",
   "execution_count": 110,
   "metadata": {},
   "outputs": [],
   "source": [
    "# norm distribution Wald\n",
    "mean_X = np.mean(X)\n",
    "mean_Y = np.mean(Y)\n",
    "var_X = np.var(X)\n",
    "var_Y = np.var(Y)\n",
    "norm_X = norm(mean_X, var_X)\n",
    "norm_Y = norm(mean_Y, var_Y)\n",
    "rejected = 0\n",
    "for i in range (1000):\n",
    "    new_data_x = norm_X.rvs(size = len(X))\n",
    "    new_data_y = norm_Y.rvs(size = len(Y))\n",
    "    statistic, pvalue, left_bound, right_bound = wald_test_for_means(new_data_x, new_data_y, estimate=0) \n",
    "    if (left_bound > 0 or right_bound < 0):\n",
    "        rejected += 1\n",
    "        \n",
    "    "
   ]
  },
  {
   "cell_type": "code",
   "execution_count": 112,
   "metadata": {},
   "outputs": [
    {
     "name": "stdout",
     "output_type": "stream",
     "text": [
      "Wald Test power: 1.0\n"
     ]
    }
   ],
   "source": [
    "print('Wald Test power:',rejected/1000)"
   ]
  },
  {
   "cell_type": "code",
   "execution_count": 120,
   "metadata": {},
   "outputs": [],
   "source": [
    "# norm distribution permutatuon'\n",
    "rejected_norm_perm = 0\n",
    "mean_X = np.mean(X)\n",
    "mean_Y = np.mean(Y)\n",
    "var_X = np.var(X)\n",
    "var_Y = np.var(Y)\n",
    "norm_X = norm(mean_X, var_X)\n",
    "norm_Y = norm(mean_Y, var_Y)\n",
    "rejected = 0\n",
    "for i in range (1000):\n",
    "    new_data_x = norm_X.rvs(size = len(X))\n",
    "    new_data_y = norm_Y.rvs(size = len(Y))\n",
    "    pvalue = approximate_permutation_criteria(T, new_data_x, new_data_y, nruns=10000)\n",
    "    if pvalue < 0.05:\n",
    "        rejected_norm_perm += 1\n",
    "        "
   ]
  },
  {
   "cell_type": "code",
   "execution_count": 121,
   "metadata": {},
   "outputs": [
    {
     "name": "stdout",
     "output_type": "stream",
     "text": [
      "Permutation Test power: 1.0\n"
     ]
    }
   ],
   "source": [
    "print('Permutation Test power:',rejected_norm_perm/1000)"
   ]
  },
  {
   "cell_type": "code",
   "execution_count": 123,
   "metadata": {},
   "outputs": [],
   "source": [
    "# beta distribution Wald\n",
    "from scipy.stats import beta\n",
    "rejected_wald_beta = 0\n",
    "par_X_beta = beta.fit(X)\n",
    "par_Y_beta = beta.fit(Y)\n",
    "beta_X = beta(*par_X_beta)\n",
    "beta_Y = beta(*par_Y_beta)\n",
    "\n",
    "for i in range (1000):\n",
    "    new_data_x_beta = beta_X.rvs(size = len(X))\n",
    "    new_data_y_beta = beta_Y.rvs(size = len(Y))\n",
    "    statistic, pvalue, left_bound, right_bound = wald_test_for_means(new_data_x_beta, new_data_y_beta, estimate=0) \n",
    "    if (left_bound > 0 or right_bound < 0):\n",
    "        rejected_wald_beta += 1"
   ]
  },
  {
   "cell_type": "code",
   "execution_count": 124,
   "metadata": {},
   "outputs": [
    {
     "name": "stdout",
     "output_type": "stream",
     "text": [
      "Wald Test power for beta distribution: 1.0\n"
     ]
    }
   ],
   "source": [
    "print('Wald Test power for beta distribution:',rejected_wald_beta/1000)"
   ]
  },
  {
   "cell_type": "code",
   "execution_count": 125,
   "metadata": {},
   "outputs": [],
   "source": [
    "# beta distribution permutatuon'\n",
    "rejected_beta_perm = 0\n",
    "rejected_wald_beta = 0\n",
    "par_X_beta = beta.fit(X)\n",
    "par_Y_beta = beta.fit(Y)\n",
    "beta_X = beta(*par_X_beta)\n",
    "beta_Y = beta(*par_Y_beta)\n",
    "rejected = 0\n",
    "for i in range (1000):\n",
    "    new_data_x_beta = beta_X.rvs(size = len(X))\n",
    "    new_data_y_beta = beta_Y.rvs(size = len(Y))\n",
    "    pvalue = approximate_permutation_criteria(T, new_data_x_beta, new_data_y_beta, nruns=10000)\n",
    "    if pvalue < 0.05:\n",
    "        rejected_beta_perm += 1"
   ]
  },
  {
   "cell_type": "code",
   "execution_count": 126,
   "metadata": {},
   "outputs": [
    {
     "name": "stdout",
     "output_type": "stream",
     "text": [
      "Permutation Test power for beta distribution: 0.999\n"
     ]
    }
   ],
   "source": [
    "print('Permutation Test power for beta distribution:',rejected_beta_perm/1000)"
   ]
  }
 ],
 "metadata": {
  "kernelspec": {
   "display_name": "Python 3",
   "language": "python",
   "name": "python3"
  },
  "language_info": {
   "codemirror_mode": {
    "name": "ipython",
    "version": 3
   },
   "file_extension": ".py",
   "mimetype": "text/x-python",
   "name": "python",
   "nbconvert_exporter": "python",
   "pygments_lexer": "ipython3",
   "version": "3.8.3"
  }
 },
 "nbformat": 4,
 "nbformat_minor": 4
}
